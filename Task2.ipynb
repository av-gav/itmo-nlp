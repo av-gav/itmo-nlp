{
  "cells": [
    {
      "cell_type": "code",
      "source": [
        "# !pip install evaluate datasets"
      ],
      "metadata": {
        "id": "z5qG7P-o9e-0"
      },
      "execution_count": 1,
      "outputs": []
    },
    {
      "cell_type": "code",
      "execution_count": 2,
      "metadata": {
        "id": "tr5pJNeo4Q7k"
      },
      "outputs": [],
      "source": [
        "# !pip uninstall -y transformers accelerate\n",
        "# !pip install transformers accelerate"
      ]
    },
    {
      "cell_type": "code",
      "execution_count": 3,
      "metadata": {
        "id": "HtRF8SMmvzyp"
      },
      "outputs": [],
      "source": [
        "import numpy as np\n",
        "import evaluate\n",
        "\n",
        "from transformers import pipeline, AutoTokenizer, AutoModelForSequenceClassification, TrainingArguments, Trainer\n",
        "from datasets import load_from_disk\n",
        "from evaluate import evaluator"
      ]
    },
    {
      "cell_type": "code",
      "source": [
        "import os\n",
        "os.environ[\"PYTORCH_CUDA_ALLOC_CONF\"] = \"max_split_size_mb:256\""
      ],
      "metadata": {
        "id": "eZdwUABbEtCd"
      },
      "execution_count": 4,
      "outputs": []
    },
    {
      "cell_type": "code",
      "execution_count": 5,
      "metadata": {
        "id": "M8PGxfKEvAn6"
      },
      "outputs": [],
      "source": [
        "#!unzip lid.zip\n",
        "ds = load_from_disk('lid').with_format(\"torch\")"
      ]
    },
    {
      "cell_type": "code",
      "execution_count": 6,
      "metadata": {
        "id": "GI4jSKle7409"
      },
      "outputs": [],
      "source": [
        "langs = ds['test'].features['label'].names"
      ]
    },
    {
      "cell_type": "code",
      "execution_count": 7,
      "metadata": {
        "id": "S4U7UAhq740-"
      },
      "outputs": [],
      "source": [
        "id2label = {idx: langs[idx] for idx in range(len(langs))}\n",
        "label2id = {v: k for k, v in id2label.items()}"
      ]
    },
    {
      "cell_type": "code",
      "execution_count": 8,
      "metadata": {
        "colab": {
          "base_uri": "https://localhost:8080/"
        },
        "id": "bfxrPV0Y740-",
        "outputId": "73e3760a-3cc8-4d2b-b0cd-5257f34c8264"
      },
      "outputs": [
        {
          "output_type": "stream",
          "name": "stderr",
          "text": [
            "Using unk_token, but it is not set yet.\n",
            "Using unk_token, but it is not set yet.\n",
            "Using unk_token, but it is not set yet.\n",
            "Using unk_token, but it is not set yet.\n",
            "Using unk_token, but it is not set yet.\n",
            "Using unk_token, but it is not set yet.\n",
            "Using unk_token, but it is not set yet.\n",
            "Using unk_token, but it is not set yet.\n"
          ]
        }
      ],
      "source": [
        "tokenizer = AutoTokenizer.from_pretrained(\"google/canine-c\")"
      ]
    },
    {
      "cell_type": "code",
      "execution_count": 9,
      "metadata": {
        "id": "sSE3t4wY740_"
      },
      "outputs": [],
      "source": [
        "metric = evaluate.load(\"accuracy\")\n",
        "\n",
        "def compute_metrics(eval_pred):\n",
        "    logits, labels = eval_pred\n",
        "    predictions = np.argmax(logits, axis=-1)\n",
        "    return metric.compute(predictions=predictions, references=labels)"
      ]
    },
    {
      "cell_type": "code",
      "execution_count": 10,
      "metadata": {
        "id": "y4RmFIUt740_"
      },
      "outputs": [],
      "source": [
        "training_args = TrainingArguments(output_dir=\"test_trainer\", evaluation_strategy=\"epoch\")"
      ]
    },
    {
      "cell_type": "code",
      "execution_count": 11,
      "metadata": {
        "colab": {
          "base_uri": "https://localhost:8080/"
        },
        "id": "vSqvrHAu741A",
        "outputId": "3b89de60-ab94-42f7-b07f-4f9b38b39655"
      },
      "outputs": [
        {
          "output_type": "stream",
          "name": "stderr",
          "text": [
            "WARNING:datasets.arrow_dataset:Loading cached processed dataset at /content/lid/train/cache-ac9c06a29ffe23b3.arrow\n",
            "WARNING:datasets.arrow_dataset:Loading cached processed dataset at /content/lid/test/cache-7531f0f1cae7a4be.arrow\n"
          ]
        }
      ],
      "source": [
        "def preprocess_function(examples):\n",
        "    return tokenizer(examples[\"text\"], truncation=True, padding='max_length')\n",
        "\n",
        "tokenized_ds = ds.map(preprocess_function, batched=True)"
      ]
    },
    {
      "cell_type": "code",
      "execution_count": 12,
      "metadata": {
        "colab": {
          "base_uri": "https://localhost:8080/"
        },
        "id": "Ofn3vyYv741A",
        "outputId": "1c175ccd-6256-42b1-d959-8c55182b8d21"
      },
      "outputs": [
        {
          "output_type": "stream",
          "name": "stderr",
          "text": [
            "WARNING:datasets.arrow_dataset:Loading cached shuffled indices for dataset at /content/lid/train/cache-84f4af7d43e72544.arrow\n",
            "WARNING:datasets.arrow_dataset:Loading cached shuffled indices for dataset at /content/lid/test/cache-690a24b91e5e0605.arrow\n"
          ]
        }
      ],
      "source": [
        "train_ds = tokenized_ds['train'].shuffle(seed=42).select(range(1000))\n",
        "test_ds = tokenized_ds['test'].shuffle(seed=42).select(range(200))"
      ]
    },
    {
      "cell_type": "code",
      "execution_count": 13,
      "metadata": {
        "colab": {
          "base_uri": "https://localhost:8080/"
        },
        "id": "3th862nQ741B",
        "outputId": "a35388bf-7ea7-466b-d358-ff42aac5d2ef"
      },
      "outputs": [
        {
          "output_type": "stream",
          "name": "stderr",
          "text": [
            "Some weights of CanineForSequenceClassification were not initialized from the model checkpoint at google/canine-c and are newly initialized: ['classifier.bias', 'classifier.weight']\n",
            "You should probably TRAIN this model on a down-stream task to be able to use it for predictions and inference.\n"
          ]
        }
      ],
      "source": [
        "model = AutoModelForSequenceClassification.from_pretrained(\"google/canine-c\", num_labels=len(langs), id2label=id2label, label2id=label2id)"
      ]
    },
    {
      "cell_type": "code",
      "execution_count": 14,
      "metadata": {
        "id": "ZuAuEA6u741B"
      },
      "outputs": [],
      "source": [
        "trainer = Trainer(\n",
        "    model=model,\n",
        "    args=training_args,\n",
        "    train_dataset=train_ds,\n",
        "    eval_dataset=test_ds,\n",
        "    compute_metrics=compute_metrics,\n",
        ")"
      ]
    },
    {
      "cell_type": "code",
      "execution_count": null,
      "metadata": {
        "id": "sAb8p0JE741B"
      },
      "outputs": [],
      "source": [
        "trainer.train()"
      ]
    },
    {
      "cell_type": "code",
      "execution_count": null,
      "metadata": {
        "id": "_qRzFWvi741B"
      },
      "outputs": [],
      "source": []
    }
  ],
  "metadata": {
    "colab": {
      "provenance": [],
      "gpuType": "T4"
    },
    "kernelspec": {
      "display_name": "Python 3 (ipykernel)",
      "language": "python",
      "name": "python3"
    },
    "language_info": {
      "codemirror_mode": {
        "name": "ipython",
        "version": 3
      },
      "file_extension": ".py",
      "mimetype": "text/x-python",
      "name": "python",
      "nbconvert_exporter": "python",
      "pygments_lexer": "ipython3",
      "version": "3.9.13"
    },
    "accelerator": "GPU",
    "gpuClass": "standard"
  },
  "nbformat": 4,
  "nbformat_minor": 0
}